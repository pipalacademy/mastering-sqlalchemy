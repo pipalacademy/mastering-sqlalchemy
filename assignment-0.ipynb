{
  "nbformat": 4,
  "nbformat_minor": 5,
  "metadata": {},
  "cells": [
    {
      "id": "756e18bf",
      "cell_type": "markdown",
      "source": [
        "# Assignment 0"
      ],
      "metadata": {}
    },
    {
      "id": "d69814f7",
      "cell_type": "markdown",
      "source": [
        "## Problem 1"
      ],
      "metadata": {}
    },
    {
      "id": "19fdbf32",
      "cell_type": "markdown",
      "source": [
        "Write a function `reverse_words` that takes a sentence and returns a new sentence with all the words in the reserse order.\n",
        "\n",
        "```\n",
        ">>> reverse_words(\"joy of programming\")\n",
        "'programming of joy'\n",
        "\n",
        ">>> reverse_words(\"less is more\")\n",
        "'more is less'\n",
        "\n",
        ">>> reverse_words(\"road goes ever on and on\")\n",
        "'on and on ever goes road'\n",
        "```\n",
        "\n",
        "Please note that only the order of the words in the sentence is reversed, not the letters in each word.\n",
        ""
      ],
      "metadata": {}
    },
    {
      "id": "6b27ad48",
      "cell_type": "code",
      "metadata": {},
      "execution_count": null,
      "source": [
        "# your code here\n",
        "\n",
        ""
      ],
      "outputs": []
    },
    {
      "id": "8935c74a",
      "cell_type": "code",
      "metadata": {},
      "execution_count": null,
      "source": [
        "\n",
        ""
      ],
      "outputs": []
    },
    {
      "id": "7c98e67d",
      "cell_type": "markdown",
      "source": [
        "## Problem 2"
      ],
      "metadata": {}
    },
    {
      "id": "62e5a6bf",
      "cell_type": "markdown",
      "source": [
        "Write a program `sumfile.py` that takes a filename as argument and prints sum of all numbers in the file. It is assumed that the file contains one number per line.\n",
        "\n",
        "```\n",
        "$ python sumfile.py files/10.txt\n",
        "55\n",
        "$ python sumfile.py files/100.txt\n",
        "5050\n",
        "```\n",
        ""
      ],
      "metadata": {}
    },
    {
      "id": "8d47e231",
      "cell_type": "code",
      "metadata": {},
      "execution_count": null,
      "source": [
        "# your code here"
      ],
      "outputs": []
    },
    {
      "id": "482bcf46",
      "cell_type": "code",
      "metadata": {},
      "execution_count": null,
      "source": [
        ""
      ],
      "outputs": []
    }
  ]
}