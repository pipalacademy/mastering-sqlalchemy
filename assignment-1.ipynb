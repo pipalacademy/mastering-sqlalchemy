{
 "cells": [
  {
   "cell_type": "markdown",
   "id": "ee70afb6",
   "metadata": {},
   "source": [
    "# Assignment 01"
   ]
  },
  {
   "cell_type": "markdown",
   "id": "8fc98fea",
   "metadata": {},
   "source": [
    "Please solve the problems below.\n"
   ]
  },
  {
   "cell_type": "markdown",
   "id": "0ea22a3f",
   "metadata": {},
   "source": [
    "Please run the code below to load `%verify_problem` magic command to verify your solutions."
   ]
  },
  {
   "cell_type": "code",
   "execution_count": null,
   "id": "7fa87d04",
   "metadata": {},
   "outputs": [],
   "source": [
    "import pipal_magic"
   ]
  },
  {
   "cell_type": "markdown",
   "id": "e41808b4",
   "metadata": {},
   "source": [
    "## Problem 1: Mean"
   ]
  },
  {
   "cell_type": "markdown",
   "id": "063b545e",
   "metadata": {},
   "source": [
    "Write a function `mean` to compute the arthematic mean of a list of numbers.\n",
    "\n",
    "The arthemetic mean of `N` numbers is computed by adding all the `N` numbers and dividing the total by `N`.\n",
    "\n",
    "The function takes the list of numbers as argument and returns the mean.\n",
    "\n",
    "```python\n",
    ">>> mean([1, 2, 3, 4, 5])\n",
    "3.0\n",
    "```\n",
    "\n",
    "\n",
    "You can verify your solution using:<br>\n",
    "`%verify_problem mean`"
   ]
  },
  {
   "cell_type": "code",
   "execution_count": null,
   "id": "7ef0f4cb",
   "metadata": {},
   "outputs": [],
   "source": []
  },
  {
   "cell_type": "code",
   "execution_count": null,
   "id": "0142da16",
   "metadata": {},
   "outputs": [],
   "source": []
  },
  {
   "cell_type": "code",
   "execution_count": null,
   "id": "8faeb7c9",
   "metadata": {},
   "outputs": [],
   "source": []
  },
  {
   "cell_type": "code",
   "execution_count": null,
   "id": "7f4b2f4e",
   "metadata": {},
   "outputs": [],
   "source": [
    "%verify_problem mean"
   ]
  },
  {
   "cell_type": "markdown",
   "id": "cd53c3ef",
   "metadata": {},
   "source": [
    "## Problem 2: Product"
   ]
  },
  {
   "cell_type": "markdown",
   "id": "affa1582",
   "metadata": {},
   "source": [
    "Write a function `product` to compute the product of a list of numbers.\n",
    "\n",
    "```\n",
    ">>> product([1, 2, 3, 4])\n",
    "24\n",
    ">>> product([10, 2, 50])\n",
    "1000\n",
    "```\n",
    "\n",
    "You can verify your solution using:<br>\n",
    "`%verify_problem product`"
   ]
  },
  {
   "cell_type": "code",
   "execution_count": null,
   "id": "ec7ce713",
   "metadata": {},
   "outputs": [],
   "source": [
    "# your code here\n",
    "\n",
    "\n",
    "\n"
   ]
  },
  {
   "cell_type": "code",
   "execution_count": null,
   "id": "624fd290",
   "metadata": {},
   "outputs": [],
   "source": []
  },
  {
   "cell_type": "code",
   "execution_count": null,
   "id": "44d7895d",
   "metadata": {},
   "outputs": [],
   "source": []
  },
  {
   "cell_type": "code",
   "execution_count": null,
   "id": "0a60f0d3",
   "metadata": {},
   "outputs": [],
   "source": [
    "%verify_problem product"
   ]
  },
  {
   "cell_type": "markdown",
   "id": "d7e6747a",
   "metadata": {},
   "source": [
    "## Problem 3: Digit Count"
   ]
  },
  {
   "cell_type": "markdown",
   "id": "408eb311",
   "metadata": {},
   "source": [
    "Write a function `digit_count` that takes a number and a digit as argument and returns the number of times the digit is present in that number.\n",
    "\n",
    "```python\n",
    ">>> digit_count(1231, 1)\n",
    "2\n",
    ">>> digit_count(1231, 3)\n",
    "1\n",
    ">>> digit_count(1231, 9)\n",
    "0\n",
    "```\n",
    "\n",
    "#### Hint\n",
    "\n",
    "```python\n",
    ">>> \"mathematics\".count(\"mat\")\n",
    "2\n",
    "```\n",
    "\n",
    "You can verify your solution using:<br>\n",
    "`%verify_problem digit-count`"
   ]
  },
  {
   "cell_type": "code",
   "execution_count": null,
   "id": "88bbf25d",
   "metadata": {},
   "outputs": [],
   "source": [
    "# your code here\n",
    "\n",
    "\n",
    "\n"
   ]
  },
  {
   "cell_type": "code",
   "execution_count": null,
   "id": "2d3b942f",
   "metadata": {},
   "outputs": [],
   "source": []
  },
  {
   "cell_type": "code",
   "execution_count": null,
   "id": "a8fff01d",
   "metadata": {},
   "outputs": [],
   "source": []
  },
  {
   "cell_type": "code",
   "execution_count": null,
   "id": "c8c49876",
   "metadata": {},
   "outputs": [],
   "source": [
    "%verify_problem digit-count"
   ]
  },
  {
   "cell_type": "markdown",
   "id": "5e615c94",
   "metadata": {},
   "source": [
    "## Problem 4: Despace"
   ]
  },
  {
   "cell_type": "markdown",
   "id": "ced4af4c",
   "metadata": {},
   "source": [
    "Write a function `despace` to remove all the spaces from a string.\n",
    "\n",
    "```python\n",
    ">>> despace(\"hello world\")\n",
    "'helloworld'\n",
    ">>> despace(\"a b c d e\")\n",
    "'abcde'\n",
    ">>> despace(\"pi seconds is a nano century\")\n",
    "'pisecondsisananocentury'\n",
    "```\n",
    "\n",
    "You can verify your solution using:<br>\n",
    "`%verify_problem despace`"
   ]
  },
  {
   "cell_type": "code",
   "execution_count": null,
   "id": "0aca4289",
   "metadata": {},
   "outputs": [],
   "source": [
    "# your code here\n",
    "\n",
    "\n",
    "\n"
   ]
  },
  {
   "cell_type": "code",
   "execution_count": null,
   "id": "101b5f67",
   "metadata": {},
   "outputs": [],
   "source": []
  },
  {
   "cell_type": "code",
   "execution_count": null,
   "id": "5d59290e",
   "metadata": {},
   "outputs": [],
   "source": []
  },
  {
   "cell_type": "code",
   "execution_count": null,
   "id": "eb62f700",
   "metadata": {},
   "outputs": [],
   "source": [
    "%verify_problem despace"
   ]
  },
  {
   "cell_type": "markdown",
   "id": "14b2bb96",
   "metadata": {},
   "source": [
    "## Problem 5: Upper Case"
   ]
  },
  {
   "cell_type": "markdown",
   "id": "02ecf4f2",
   "metadata": {},
   "source": [
    "Write a program uppercase.py that takes a filename as command-line argument and prints all the contents of the file in uppercase.\n",
    "\n",
    "```\n",
    "$ cat files/five.txt\n",
    "One\n",
    "Two\n",
    "Three\n",
    "Four\n",
    "Five\n",
    "\n",
    "$ python uppercase.py files/five.txt\n",
    "ONE\n",
    "TWO\n",
    "THREE\n",
    "FOUR\n",
    "FIVE\n",
    "```\n",
    "\n",
    "You can verify your solution using:<br>\n",
    "`%verify_problem uppercase`"
   ]
  },
  {
   "cell_type": "code",
   "execution_count": null,
   "id": "ebd84078",
   "metadata": {},
   "outputs": [],
   "source": [
    "# your code here\n",
    "\n",
    "\n",
    "\n"
   ]
  },
  {
   "cell_type": "code",
   "execution_count": null,
   "id": "d5cf8d7d",
   "metadata": {},
   "outputs": [],
   "source": []
  },
  {
   "cell_type": "code",
   "execution_count": null,
   "id": "c5c5e38c",
   "metadata": {},
   "outputs": [],
   "source": []
  },
  {
   "cell_type": "code",
   "execution_count": null,
   "id": "b00d2c52",
   "metadata": {},
   "outputs": [],
   "source": [
    "%verify_problem uppercase"
   ]
  },
  {
   "cell_type": "markdown",
   "id": "a31ae2c6",
   "metadata": {},
   "source": [
    "## Problem 6: Make Header"
   ]
  },
  {
   "cell_type": "markdown",
   "id": "bfea0962",
   "metadata": {},
   "source": [
    "Write a program `header.py` that takes a word as command-line argument and prints it as header as shown below with the word converted to upper case.\n",
    "\n",
    "```\n",
    "$ python header.py python\n",
    "======\n",
    "PYTHON\n",
    "======\n",
    "\n",
    "$ python header.py python-foundation-course\n",
    "========================\n",
    "PYTHON-FOUNDATION-COURSE\n",
    "========================\n",
    "```\n",
    "\n",
    "**Hint:**\n",
    "\n",
    "```\n",
    ">>> name = 'python'\n",
    ">>> name.upper()\n",
    "'PYTHON'\n",
    "```\n",
    "\n",
    "\n",
    "You can verify your solution using:<br>\n",
    "`%verify_problem print-header`"
   ]
  },
  {
   "cell_type": "code",
   "execution_count": null,
   "id": "bc856469",
   "metadata": {},
   "outputs": [],
   "source": [
    "%%file header.py\n",
    "# your code here "
   ]
  },
  {
   "cell_type": "code",
   "execution_count": null,
   "id": "a3172c6c",
   "metadata": {},
   "outputs": [],
   "source": [
    "!python header.py python"
   ]
  },
  {
   "cell_type": "code",
   "execution_count": null,
   "id": "ff575cb2",
   "metadata": {},
   "outputs": [],
   "source": []
  },
  {
   "cell_type": "code",
   "execution_count": null,
   "id": "149858f4",
   "metadata": {},
   "outputs": [],
   "source": [
    "%verify_problem print-header"
   ]
  },
  {
   "cell_type": "markdown",
   "id": "a429d7da",
   "metadata": {},
   "source": [
    "## Problem 7: Text in a Box"
   ]
  },
  {
   "cell_type": "markdown",
   "id": "49be3479",
   "metadata": {},
   "source": [
    "Write a program `box.py` that takes word as a command-line argument and prints the word in a box as shown below.\n",
    "\n",
    "```\n",
    "$ python box.py python\n",
    "+--------+\n",
    "| python |\n",
    "+--------+\n",
    "```\n",
    "\n",
    "Please note that there should be exactly one space on either side of the text in the box.\n",
    "\n",
    "\n",
    "You can verify your solution using:<br>\n",
    "`%verify_problem text-in-a-box`"
   ]
  },
  {
   "cell_type": "code",
   "execution_count": null,
   "id": "d08e4e2b",
   "metadata": {},
   "outputs": [],
   "source": [
    "%%file box.py\n",
    "# your code here"
   ]
  },
  {
   "cell_type": "code",
   "execution_count": null,
   "id": "b4567ab5",
   "metadata": {},
   "outputs": [],
   "source": []
  },
  {
   "cell_type": "code",
   "execution_count": null,
   "id": "20b110c6",
   "metadata": {},
   "outputs": [],
   "source": []
  },
  {
   "cell_type": "code",
   "execution_count": null,
   "id": "9396e121",
   "metadata": {},
   "outputs": [],
   "source": [
    "%verify_problem text-in-a-box"
   ]
  },
  {
   "cell_type": "markdown",
   "id": "fdc7fb8f",
   "metadata": {},
   "source": [
    "## Problem 8: Longest Line"
   ]
  },
  {
   "cell_type": "markdown",
   "id": "53b9736c",
   "metadata": {},
   "source": [
    "Write a program `longest_line.py` to print the longest line from a file.\n",
    "\n",
    "The program should take a filename as a command-line argument and print the longest line from it.\n",
    "\n",
    "```\n",
    "$ python longest_line.py files/five.txt\n",
    "three\n",
    "\n",
    "$ python longest_line.py files/zen-of-python.txt\n",
    "There should be one-- and preferably only one --obvious way to do it.\n",
    "\n",
    "$ python longest_line.py files/bumper-stickers.txt\n",
    "The first 90 percent of the code accounts for the first 90 percent of the development time. The remaining 10 percent of the code accounts for the other 90 percent of the development time.\n",
    "```\n",
    "\n",
    "You can verify your solution using:<br>\n",
    "`%verify_problem longest-line`"
   ]
  },
  {
   "cell_type": "code",
   "execution_count": null,
   "id": "a140f805",
   "metadata": {},
   "outputs": [],
   "source": [
    "%%file longest_line.py\n",
    "# your code here"
   ]
  },
  {
   "cell_type": "code",
   "execution_count": null,
   "id": "e7443267",
   "metadata": {},
   "outputs": [],
   "source": []
  },
  {
   "cell_type": "code",
   "execution_count": null,
   "id": "c6583e62",
   "metadata": {},
   "outputs": [],
   "source": []
  },
  {
   "cell_type": "code",
   "execution_count": null,
   "id": "faf7de26",
   "metadata": {},
   "outputs": [],
   "source": [
    "%verify_problem longest-line"
   ]
  },
  {
   "cell_type": "markdown",
   "id": "10dce49a",
   "metadata": {},
   "source": [
    "## Problem 9: Reverse Lines"
   ]
  },
  {
   "cell_type": "markdown",
   "id": "bda3d000",
   "metadata": {},
   "source": [
    "Write a program `reverse.py` that takes a filename as command-line argument and prints all the lines in that file in the reverse order.\n",
    "\n",
    "```\n",
    "$ cat files/five.txt\n",
    "one\n",
    "two\n",
    "three\n",
    "four\n",
    "five\n",
    "\n",
    "$ python reverse.py files/five.txt\n",
    "five\n",
    "four\n",
    "three\n",
    "two\n",
    "one\n",
    "```\n",
    "\n",
    "\n",
    "You can verify your solution using:<br>\n",
    "`%verify_problem reverse-lines`"
   ]
  },
  {
   "cell_type": "code",
   "execution_count": null,
   "id": "24591693",
   "metadata": {},
   "outputs": [],
   "source": [
    "%%file reverse.py\n",
    "# your code here"
   ]
  },
  {
   "cell_type": "code",
   "execution_count": null,
   "id": "33615ed3",
   "metadata": {},
   "outputs": [],
   "source": []
  },
  {
   "cell_type": "code",
   "execution_count": null,
   "id": "0fd87161",
   "metadata": {},
   "outputs": [],
   "source": []
  },
  {
   "cell_type": "code",
   "execution_count": null,
   "id": "6c7c9d42",
   "metadata": {},
   "outputs": [],
   "source": [
    "%verify_problem reverse-lines"
   ]
  },
  {
   "cell_type": "markdown",
   "id": "af5d7690",
   "metadata": {},
   "source": [
    "## Problem 10: Nominatim OSM Search"
   ]
  },
  {
   "cell_type": "markdown",
   "id": "c19210ba",
   "metadata": {},
   "source": [
    "Write a program `nominatim.py` to search for a place in Open Street Map using [Nominatim API][1].\n",
    "\n",
    "[1]: https://nominatim.org/release-docs/develop/api/Search/\n",
    "\n",
    "## The API\n",
    "\n",
    "```\n",
    "$ curl 'https://nominatim.openstreetmap.org/search.php?q=bangalore&format=jsonv2'\n",
    "[\n",
    "  {\n",
    "    \"place_id\": 216751017,\n",
    "    \"licence\": \"Data © OpenStreetMap contributors, ODbL 1.0. http://osm.org/copyright\",\n",
    "    \"osm_type\": \"relation\",\n",
    "    \"osm_id\": 7902476,\n",
    "    \"lat\": \"12.9767936\",\n",
    "    \"lon\": \"77.590082\",\n",
    "    \"category\": \"boundary\",\n",
    "    \"type\": \"administrative\",\n",
    "    \"place_rank\": 16,\n",
    "    \"importance\": 0.6094348238975636,\n",
    "    \"addresstype\": \"city\",\n",
    "    \"name\": \"Bengaluru\",\n",
    "    \"display_name\": \"Bengaluru, Bangalore North, Bengaluru Urban District, Karnataka, India\",\n",
    "    \"boundingbox\": [\n",
    "      \"12.8340125\",\n",
    "      \"13.1436649\",\n",
    "      \"77.4601025\",\n",
    "      \"77.7840515\"\n",
    "    ]\n",
    "  }\n",
    "]\n",
    "```\n",
    "\n",
    "The Nominatum API returns the information about the matched locations. There could be zero, one, or more matches.\n",
    "\n",
    "## The Program\n",
    "\n",
    "The program is expected to take the place name as a command-line argument and print the `display_name`, `type`, `lat` and `lon` for every match from the nominatum search for that place, as shown in the examples below.\n",
    "\n",
    "```\n",
    "$ python nominatum.py Bangalore\n",
    "Bengaluru, Bangalore North, Bengaluru Urban District, Karnataka, India\n",
    "Type: administrative\n",
    "Latitude: 12.9767936\n",
    "Longitude: 77.590082\n",
    "\n",
    "```\n",
    "\n",
    "When there are multiple matches, they are separated by a new line.\n",
    "\n",
    "```\n",
    "$ python nominatum.py \"silk board\"\n",
    "Silk Board, Outer Ring Road, BTM 2nd Stage, BTM Layout Ward, South Zone, Bengaluru, Bangalore South, Bengaluru Urban District, Karnataka, 560034, India\n",
    "Type: bus_stop\n",
    "Latitude: 12.9170295\n",
    "Longitude: 77.6223209\n",
    "\n",
    "Silk Board, Srinagar - Kanyakumari Highway, HSR Layout Ward, Bommanahalli Zone, Bengaluru, Bangalore South, Bengaluru Urban District, Karnataka, 560034, India\n",
    "Type: bus_stop\n",
    "Latitude: 12.9167972\n",
    "Longitude: 77.6235628\n",
    "\n",
    "```\n",
    "\n",
    "Sometimes there could be a lot of matches.\n",
    "\n",
    "```\n",
    "$ python nominatum.py Google\n",
    "Google, 355, Main Street, East Cambridge, Cambridge, Middlesex County, Massachusetts, 02142, United States\n",
    "Type: company\n",
    "Latitude: 42.3627717\n",
    "Longitude: -71.087257\n",
    "\n",
    "Google, West Bluff Creek Drive, Playa Vista, Los Angeles, Los Angeles County, California, 90094, United States\n",
    "Type: company\n",
    "Latitude: 33.977092\n",
    "Longitude: -118.4092133\n",
    "\n",
    "Google, Mountain View, Santa Clara County, California, United States\n",
    "Type: commercial\n",
    "Latitude: 37.419000999999994\n",
    "Longitude: -122.08237596053958\n",
    "\n",
    "Google, 150, Broadway, East Cambridge, Cambridge, Middlesex County, Massachusetts, 02142, United States\n",
    "Type: company\n",
    "Latitude: 42.3642662\n",
    "Longitude: -71.0887198\n",
    "\n",
    "Googal, Devadurga taluk, Raichur District, Karnataka, India\n",
    "Type: village\n",
    "Latitude: 16.4693278\n",
    "Longitude: 77.1442219\n",
    "\n",
    "Google, Kirkland, King County, Washington, United States\n",
    "Type: commercial\n",
    "Latitude: 47.6705578\n",
    "Longitude: -122.19707375045999\n",
    "\n",
    "```\n",
    "\n",
    "\n",
    "\n",
    "You can verify your solution using:<br>\n",
    "`%verify_problem nominatim`"
   ]
  },
  {
   "cell_type": "code",
   "execution_count": null,
   "id": "e7d6d1ba",
   "metadata": {},
   "outputs": [],
   "source": [
    "%%file nominatim.py\n",
    "# your code here"
   ]
  },
  {
   "cell_type": "code",
   "execution_count": null,
   "id": "44856a6f",
   "metadata": {},
   "outputs": [],
   "source": []
  },
  {
   "cell_type": "code",
   "execution_count": null,
   "id": "d720d924",
   "metadata": {},
   "outputs": [],
   "source": []
  },
  {
   "cell_type": "code",
   "execution_count": null,
   "id": "1a01e313",
   "metadata": {},
   "outputs": [],
   "source": [
    "%verify_problem nominatim"
   ]
  }
 ],
 "metadata": {
  "kernelspec": {
   "display_name": "venv",
   "language": "python",
   "name": "python3"
  },
  "language_info": {
   "codemirror_mode": {
    "name": "ipython",
    "version": 3
   },
   "file_extension": ".py",
   "mimetype": "text/x-python",
   "name": "python",
   "nbconvert_exporter": "python",
   "pygments_lexer": "ipython3",
   "version": "3.12.3"
  }
 },
 "nbformat": 4,
 "nbformat_minor": 5
}
