{
 "cells": [
  {
   "cell_type": "markdown",
   "id": "3b0bd985",
   "metadata": {},
   "source": [
    "# Assignment 3"
   ]
  },
  {
   "attachments": {},
   "cell_type": "markdown",
   "id": "5dbefe4f",
   "metadata": {},
   "source": [
    "Please solve the problems below.\n",
    "\n"
   ]
  },
  {
   "cell_type": "markdown",
   "id": "e44ead57",
   "metadata": {},
   "source": [
    "Run the following command to load `%verify_problem` magic command."
   ]
  },
  {
   "cell_type": "code",
   "execution_count": null,
   "id": "ae83159f",
   "metadata": {},
   "outputs": [],
   "source": [
    "import pipal_magic"
   ]
  },
  {
   "cell_type": "markdown",
   "id": "f09d09b9",
   "metadata": {},
   "source": [
    "## Problem 1: Sort Words"
   ]
  },
  {
   "cell_type": "markdown",
   "id": "01e42268",
   "metadata": {},
   "source": [
    "Write a function `sort_words` to rearrange the words in a sentense in the sorted or order.\n",
    "\n",
    "```python\n",
    ">>> sort_words(\"one two three four five\")\n",
    "'five four one three two'\n",
    ">>> sort_words(\"white cat and black dog\")\n",
    "'and black cat dog white'\n",
    ">>> sort_words(\"have a nice day\")\n",
    "'a day have nice'\n",
    "```\n",
    "\n",
    "You can verify your solution using:<br>\n",
    "`%verify_problem sort-words`"
   ]
  },
  {
   "cell_type": "code",
   "execution_count": null,
   "id": "75e387ab",
   "metadata": {},
   "outputs": [],
   "source": [
    "# your code here\n",
    "\n",
    "\n",
    "\n"
   ]
  },
  {
   "cell_type": "code",
   "execution_count": null,
   "id": "cca02163",
   "metadata": {},
   "outputs": [],
   "source": []
  },
  {
   "cell_type": "code",
   "execution_count": null,
   "id": "cd1901f0",
   "metadata": {},
   "outputs": [],
   "source": []
  },
  {
   "cell_type": "code",
   "execution_count": null,
   "id": "7c40fedc",
   "metadata": {},
   "outputs": [],
   "source": [
    "%verify_problem sort-words"
   ]
  },
  {
   "cell_type": "markdown",
   "id": "ccd28de7",
   "metadata": {},
   "source": [
    "## Problem 2: Longest Argument"
   ]
  },
  {
   "cell_type": "markdown",
   "id": "51a2ed35",
   "metadata": {},
   "source": [
    "Write a program `longest_argument.py` that takes a one or more words as command-line arguments and prints the longest word.\n",
    "\n",
    "```\n",
    "$ python longest_argument.py joy of programming\n",
    "programming\n",
    "\n",
    "$ python longest_argument.py this too shall pass\n",
    "shall\n",
    "```\n",
    "\n",
    "Hint: You can use list slicing to get all the arguments. For example `sys.argv[1:]` will give you all arguments other than the program name.\n",
    "\n",
    "\n",
    "You can verify your solution using:<br>\n",
    "`%verify_problem longest-argument`"
   ]
  },
  {
   "cell_type": "code",
   "execution_count": null,
   "id": "2cad1f8c",
   "metadata": {},
   "outputs": [],
   "source": [
    "%%file longest_argument.py\n",
    "# your code here"
   ]
  },
  {
   "cell_type": "code",
   "execution_count": null,
   "id": "e3273699",
   "metadata": {},
   "outputs": [],
   "source": []
  },
  {
   "cell_type": "code",
   "execution_count": null,
   "id": "1bc35f0b",
   "metadata": {},
   "outputs": [],
   "source": []
  },
  {
   "cell_type": "code",
   "execution_count": null,
   "id": "2db8ef0a",
   "metadata": {},
   "outputs": [],
   "source": [
    "%verify_problem longest-argument"
   ]
  },
  {
   "cell_type": "markdown",
   "id": "a96c3840",
   "metadata": {},
   "source": [
    "## Problem 3: Frankfurter Exchange Rates"
   ]
  },
  {
   "cell_type": "markdown",
   "id": "6022607b",
   "metadata": {},
   "source": [
    "Write a program `frankfurter.py` to list the historical currency rate of a currency against a base currency using [Frankfurter Exchange Rate API][1].\n",
    "\n",
    "[1]: https://www.frankfurter.app/docs/\n",
    "\n",
    "The program should take the following command-line arguments.\n",
    "\n",
    "```\n",
    "  -c CURRENCY, --currency CURRENCY\n",
    "                        target currency, default INR\n",
    "  -b BASE, --base BASE  base currency, default USD\n",
    "  -d DATE, --date DATE  First date to consider, default yesterday\n",
    "  -n DAYS, --days DAYS  number of days to display\n",
    "```\n",
    "\n",
    "The program should display the curreny rate between the base currency and the target currency for `n` days starting from yesterday. Optionally, the start date could be provided as a command-line argument.\n",
    "\n",
    "Please note that there convertion data is not available on weekends. So the number of rows of data shown may be less than `n`.\n",
    "\n",
    "## The Output Format\n",
    "\n",
    "The output needs to be properly tabulated. Please use Python library `tabulate` for doing this.\n",
    "\n",
    "Please refer to [Printing Tables with Tabulate][h2] in the Python Cookbook to learn how to the the `tabulate` library.\n",
    "\n",
    "\n",
    "## Usage\n",
    "\n",
    "```\n",
    "$ python frankfurter.py\n",
    "Date          USD    INR\n",
    "----------  -----  -----\n",
    "2023-10-18      1  83.25\n",
    "2023-10-17      1  83.22\n",
    "2023-10-16      1  83.25\n",
    "2023-10-13      1  83.27\n",
    "2023-10-12      1  83.24\n",
    "2023-10-11      1  83.18\n",
    "2023-10-10      1  83.24\n",
    "2023-10-09      1  83.3\n",
    "```\n",
    "\n",
    "```\n",
    "$ python frankfurter.py -n 2\n",
    "Date          USD    INR\n",
    "----------  -----  -----\n",
    "2023-10-18      1  83.25\n",
    "2023-10-17      1  83.22\n",
    "```\n",
    "\n",
    "```\n",
    "$ python frankfurter.py -b GBP\n",
    "Date          GBP     INR\n",
    "----------  -----  ------\n",
    "2023-10-18      1  101.55\n",
    "2023-10-17      1  101.31\n",
    "2023-10-16      1  101.37\n",
    "2023-10-13      1  101.41\n",
    "2023-10-12      1  102.47\n",
    "2023-10-11      1  102.24\n",
    "2023-10-10      1  101.96\n",
    "2023-10-09      1  101.39\n",
    "```\n",
    "\n",
    "```\n",
    "$ python frankfurter.py -b GBP -c USD\n",
    "Date          GBP     USD\n",
    "----------  -----  ------\n",
    "2023-10-18      1  1.2198\n",
    "2023-10-17      1  1.2173\n",
    "2023-10-16      1  1.2176\n",
    "2023-10-13      1  1.2178\n",
    "2023-10-12      1  1.231\n",
    "2023-10-11      1  1.2292\n",
    "2023-10-10      1  1.2249\n",
    "2023-10-09      1  1.2172\n",
    "```\n",
    "\n",
    "```\n",
    "$ python frankfurter.py -d 2023-01-31\n",
    "Date          USD    INR\n",
    "----------  -----  -----\n",
    "2023-01-31      1  81.82\n",
    "2023-01-30      1  81.53\n",
    "2023-01-27      1  81.61\n",
    "2023-01-26      1  81.53\n",
    "2023-01-25      1  81.57\n",
    "2023-01-24      1  81.62\n",
    "2023-01-23      1  81.36\n",
    "```\n",
    "\n",
    "## Hints\n",
    "\n",
    "* See [Working with dates][h1] in the Python Cookbook.\n",
    "* See [Printing Tables with Tabulate][h2] in the Python Cookbook.\n",
    "\n",
    "[h1]: https://notes.pipal.in/2024/zeomega-sqlalchemy/cookbook/dates.html\n",
    "[h2]: https://notes.pipal.in/2024/zeomega-sqlalchemy/cookbook/tabulate.html\n",
    "\n",
    "\n",
    "You can verify your solution using:<br>\n",
    "`%verify_problem frankfurter`"
   ]
  },
  {
   "cell_type": "code",
   "execution_count": null,
   "id": "e65d6d5a",
   "metadata": {},
   "outputs": [],
   "source": [
    "%%file frankfurter.py\n",
    "# your code here"
   ]
  },
  {
   "cell_type": "code",
   "execution_count": null,
   "id": "0ebc56ad",
   "metadata": {},
   "outputs": [],
   "source": []
  },
  {
   "cell_type": "code",
   "execution_count": null,
   "id": "d6c3406c",
   "metadata": {},
   "outputs": [],
   "source": []
  },
  {
   "cell_type": "code",
   "execution_count": null,
   "id": "297f6ecf",
   "metadata": {},
   "outputs": [],
   "source": [
    "%verify_problem frankfurter"
   ]
  },
  {
   "cell_type": "markdown",
   "id": "8e6f5abb",
   "metadata": {},
   "source": [
    "## Problem 4: Unzip"
   ]
  },
  {
   "cell_type": "markdown",
   "id": "fb47068d",
   "metadata": {},
   "source": [
    "Write a program `unzip.py` to extract and list files in a zip archive.\n",
    "\n",
    "The program is expected to work similar to the `unzip` command in unix, with a limited functionality as described below.\n",
    "\n",
    "The program supports extracting and listing files in a zip archive.\n",
    "\n",
    "It should take a zip file as an argument and extract all the files in the archive to the current directory. If optional argument `-d` is specified, the files should be extracted to the specified directory instead of current directory.\n",
    "\n",
    "If the optional argument `-l` is specified, the program should list the contents of the archive in the format shown in the examples below.\n",
    "\n",
    "\n",
    "\n",
    "```\n",
    "$ python unzip.py files/images.zip\n",
    "\n",
    "$ tree images\n",
    "images\n",
    "├── bangalore-1.jpg\n",
    "├── bangalore-2.jpg\n",
    "├── bangalore-3.jpg\n",
    "├── bangalore-4.jpg\n",
    "└── README.md\n",
    "\n",
    "$ python unzip.py files/images.zip -d pics\n",
    "\n",
    "$ tree pics\n",
    "pics\n",
    "└── images\n",
    "    ├── bangalore-1.jpg\n",
    "    ├── bangalore-2.jpg\n",
    "    ├── bangalore-3.jpg\n",
    "    ├── bangalore-4.jpg\n",
    "    └── README.md\n",
    "\n",
    "$ python unzip -l files/images.zip\n",
    "  Length  Date        Time      Filename\n",
    "--------  ----------  --------  ----------------------\n",
    " 2084269  2023-02-24  02:57:34  images/bangalore-1.jpg\n",
    " 1276973  2023-01-17  06:39:08  images/bangalore-2.jpg\n",
    "  785897  2023-01-26  11:20:58  images/bangalore-3.jpg\n",
    " 1898997  2023-02-14  04:39:12  images/bangalore-4.jpg\n",
    "     409  2023-02-24  03:57:50  images/README.md\n",
    "```\n",
    "\n",
    "### Hints\n",
    "\n",
    "* Use [zipfile](https://docs.python.org/3/library/zipfile.html) module\n",
    "    * See [ZipFile.extractall()](https://docs.python.org/3/library/zipfile.html#zipfile.ZipFile.extractall)\n",
    "    * See [ZipFile.infolist()](https://docs.python.org/3/library/zipfile.html#zipfile.ZipFile.infolist)\n",
    "* Use `tabulate` module to print the listing\n",
    "\n",
    "You can verify your solution using:<br>\n",
    "`%verify_problem unzip`"
   ]
  },
  {
   "cell_type": "code",
   "execution_count": null,
   "id": "5b5f8b0c",
   "metadata": {},
   "outputs": [],
   "source": [
    "%%file unzip.py\n",
    "# your code here"
   ]
  },
  {
   "cell_type": "code",
   "execution_count": null,
   "id": "a92d4fde",
   "metadata": {},
   "outputs": [],
   "source": []
  },
  {
   "cell_type": "code",
   "execution_count": null,
   "id": "344f1815",
   "metadata": {},
   "outputs": [],
   "source": []
  },
  {
   "cell_type": "code",
   "execution_count": null,
   "id": "2923e91a",
   "metadata": {},
   "outputs": [],
   "source": [
    "%verify_problem unzip"
   ]
  },
  {
   "cell_type": "markdown",
   "id": "bffb6987",
   "metadata": {},
   "source": [
    "## Problem 5: Create Thumbnails"
   ]
  },
  {
   "cell_type": "markdown",
   "id": "002e5854",
   "metadata": {},
   "source": [
    "Write a program `thumbnails.py` to create thumbnails of all images in a directory.\n",
    "\n",
    "The program should take path to a directory as an argument and create thumbnails of size 400x400 for each of the image and write them into the output directory with the same filename. The output directory should be `thumbnails/` by default, but it should be possible to specify a different output directory using flag `-d` or `--output-directory`.\n",
    "\n",
    "For simplicity assume that all the images will be of extension `.jpg`.\n",
    "\n",
    "```\n",
    "$ ls files/images\n",
    "bangalore-1.jpg\n",
    "bangalore-2.jpg\n",
    "bangalore-3.jpg\n",
    "bangalore-4.jpg\n",
    "README.md\n",
    "\n",
    "$ python thumbnails.py files/images\n",
    "created thumbnails/bangalore-1.jpg\n",
    "created thumbnails/bangalore-2.jpg\n",
    "created thumbnails/bangalore-3.jpg\n",
    "created thumbnails/bangalore-4.jpg\n",
    "\n",
    "\n",
    "$ python thumbnails.py files/images -d small\n",
    "created small/bangalore-1.jpg\n",
    "created small/bangalore-2.jpg\n",
    "created small/bangalore-3.jpg\n",
    "created small/bangalore-4.jpg\n",
    "```\n",
    "\n",
    "### Hint\n",
    "\n",
    "Use Python Imaging Library (PIL) for resizing the images.\n",
    "\n",
    "There is an example.\n",
    "\n",
    "```python\n",
    "from PIL import Image\n",
    "\n",
    "img = Image.open(\"files/images/bangalore-1.jpg\")\n",
    "img.thumbnail((100, 100))\n",
    "img.save(\"small.jpg\")\n",
    "```\n",
    "\n",
    "You can verify your solution using:<br>\n",
    "`%verify_problem thumbnails`"
   ]
  },
  {
   "cell_type": "code",
   "execution_count": null,
   "id": "7c5b3874",
   "metadata": {},
   "outputs": [],
   "source": [
    "%%file thumbnails.py\n",
    "# your code here"
   ]
  },
  {
   "cell_type": "code",
   "execution_count": null,
   "id": "7545baee",
   "metadata": {},
   "outputs": [],
   "source": []
  },
  {
   "cell_type": "code",
   "execution_count": null,
   "id": "d0792d97",
   "metadata": {},
   "outputs": [],
   "source": []
  },
  {
   "cell_type": "code",
   "execution_count": null,
   "id": "f1ff390a",
   "metadata": {},
   "outputs": [],
   "source": [
    "%verify_problem thumbnails"
   ]
  }
 ],
 "metadata": {
  "kernelspec": {
   "display_name": "mastering-sqlalchemy",
   "language": "python",
   "name": "mastering-sqlalchemy"
  },
  "language_info": {
   "codemirror_mode": {
    "name": "ipython",
    "version": 3
   },
   "file_extension": ".py",
   "mimetype": "text/x-python",
   "name": "python",
   "nbconvert_exporter": "python",
   "pygments_lexer": "ipython3",
   "version": "3.12.3"
  }
 },
 "nbformat": 4,
 "nbformat_minor": 5
}
