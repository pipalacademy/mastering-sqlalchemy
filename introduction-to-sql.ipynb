{
  "nbformat": 4,
  "nbformat_minor": 5,
  "metadata": {},
  "cells": [
    {
      "id": "f2399979",
      "cell_type": "markdown",
      "source": [
        "---"
      ],
      "metadata": {}
    },
    {
      "id": "ede8add8",
      "cell_type": "markdown",
      "source": [
        "# toc: false"
      ],
      "metadata": {}
    },
    {
      "id": "4418d9f9",
      "cell_type": "markdown",
      "source": [
        "body-classes: sql\n",
        "---"
      ],
      "metadata": {}
    },
    {
      "id": "085aa557",
      "cell_type": "markdown",
      "source": [
        "# Introduction to SQL"
      ],
      "metadata": {}
    },
    {
      "id": "de31982d",
      "cell_type": "markdown",
      "source": [
        "SQL is a mini language for managing data in Relational Database Management Systems (RDBMS).\n",
        "\n",
        "Every database engine supports a slightly different flavour of SQL even though there are a lot of it common across engines. In this course, we are going to look to two database engines - _SQLite_ and _MS SQL Server_.\n",
        "\n",
        "We'll start exploring with _SQLite_ first as it is easier to setup and run and then move on to exploring MS SQL Server.\n",
        ""
      ],
      "metadata": {}
    },
    {
      "id": "3e430922",
      "cell_type": "markdown",
      "source": [
        "## The Setup"
      ],
      "metadata": {}
    },
    {
      "id": "86593a61",
      "cell_type": "markdown",
      "source": [
        "To make it easier to run queries and interact with databases right from the jupyter notebook, we'll using a a [jupysql extension](https://jupysql.ploomber.io). It allows us to run queries using `%%sql` magic command. You can enable it by running the following command.\n",
        ""
      ],
      "metadata": {}
    },
    {
      "id": "ff1c2033",
      "cell_type": "code",
      "metadata": {},
      "execution_count": null,
      "source": [
        "%load_ext sql"
      ],
      "outputs": []
    },
    {
      "id": "a946e800",
      "cell_type": "markdown",
      "source": [
        "Also, set the limit of number of rows to display to 25.\n",
        ""
      ],
      "metadata": {}
    },
    {
      "id": "1faa9160",
      "cell_type": "code",
      "metadata": {},
      "execution_count": null,
      "source": [
        "%config SqlMagic.displaylimit = 25\n",
        "%config SqlMagic.displaycon = False"
      ],
      "outputs": []
    },
    {
      "id": "58a203be",
      "cell_type": "markdown",
      "source": [
        "We are going to use a sqlite database `trains.db` for this exploration.\n",
        ""
      ],
      "metadata": {}
    },
    {
      "id": "360d1233",
      "cell_type": "code",
      "metadata": {},
      "execution_count": null,
      "source": [
        "%sql sqlite:///trains.db"
      ],
      "outputs": []
    },
    {
      "id": "31a5cf15",
      "cell_type": "markdown",
      "source": [
        "You can verify it by running the following query.\n",
        ""
      ],
      "metadata": {}
    },
    {
      "id": "9adb0f5a",
      "cell_type": "code",
      "metadata": {},
      "execution_count": null,
      "source": [
        "%%sql\n",
        "SELECT 1 as x, 2 as y"
      ],
      "outputs": []
    },
    {
      "id": "dc2501eb",
      "cell_type": "markdown",
      "source": [
        "Congratulations! Your setup is ready.\n",
        "\n",
        "You can use the same `%sql` to specify connection to a different database and `%%sql` to write a query.\n",
        ""
      ],
      "metadata": {}
    },
    {
      "id": "06ea3305",
      "cell_type": "markdown",
      "source": [
        "## Basic Select Statement"
      ],
      "metadata": {}
    },
    {
      "id": "307eeec2",
      "cell_type": "markdown",
      "source": [
        "We'll start with understanding the SELECT statement.\n",
        "\n",
        "In this section, we'll learn:\n",
        "\n",
        "* basic SQL statement\n",
        "* selecting columns\n",
        "* limiting the number of rows\n",
        "* ordering the results\n",
        "* count(*)\n",
        "* column aliases\n",
        "* count distinct values\n",
        "* select distinct values\n",
        "\n",
        "Preview of the train table.\n",
        "\n",
        "```{python .sql}"
      ],
      "metadata": {}
    },
    {
      "id": "52a85e0b",
      "cell_type": "markdown",
      "source": [
        "#| classes: sql"
      ],
      "metadata": {}
    },
    {
      "id": "dab43fc1",
      "cell_type": "markdown",
      "source": [
        "%%sql\n",
        "SELECT * FROM train\n",
        "LIMIT 5\n",
        "```\n",
        "\n",
        "We can also specify which columns what we want in the result.\n",
        ""
      ],
      "metadata": {}
    },
    {
      "id": "ef132a74",
      "cell_type": "code",
      "metadata": {},
      "execution_count": null,
      "source": [
        "%%sql\n",
        "SELECT number, name, from_station_name, to_station_name\n",
        "FROM train\n",
        "LIMIT 5"
      ],
      "outputs": []
    },
    {
      "id": "3b44f251",
      "cell_type": "markdown",
      "source": [
        "### Column Alias"
      ],
      "metadata": {}
    },
    {
      "id": "be7983c1",
      "cell_type": "markdown",
      "source": [
        "We can also specify an alias or a different name for a column.\n",
        "\n",
        "```{python .sql}"
      ],
      "metadata": {}
    },
    {
      "id": "0368b978",
      "cell_type": "markdown",
      "source": [
        "#| classes: sql"
      ],
      "metadata": {}
    },
    {
      "id": "433c4e81",
      "cell_type": "markdown",
      "source": [
        "%%sql\n",
        "SELECT\n",
        "    number as train_number,\n",
        "    name as train_name,\n",
        "    from_station_name as from_station,\n",
        "    to_station_name as to_station\n",
        "FROM train\n",
        "LIMIT 5\n",
        "```\n",
        ""
      ],
      "metadata": {}
    },
    {
      "id": "8e24e7f2",
      "cell_type": "markdown",
      "source": [
        "### Order By"
      ],
      "metadata": {}
    },
    {
      "id": "0858fe9f",
      "cell_type": "markdown",
      "source": [
        "The `ORDER BY` clause is used to order the results. For example, the following query returns the first 5 trains ordered by the train number.\n",
        ""
      ],
      "metadata": {}
    },
    {
      "id": "934955e3",
      "cell_type": "code",
      "metadata": {},
      "execution_count": null,
      "source": [
        "%%sql\n",
        "SELECT * FROM train\n",
        "ORDER by number\n",
        "LIMIT 5"
      ],
      "outputs": []
    },
    {
      "id": "77e42d57",
      "cell_type": "markdown",
      "source": [
        "The order can be reversed by specifying a suffix `DESC` to the column.\n",
        ""
      ],
      "metadata": {}
    },
    {
      "id": "9048a5e9",
      "cell_type": "code",
      "metadata": {},
      "execution_count": null,
      "source": [
        "%%sql\n",
        "SELECT * FROM train\n",
        "ORDER by number DESC\n",
        "LIMIT 5"
      ],
      "outputs": []
    },
    {
      "id": "adec8b31",
      "cell_type": "markdown",
      "source": [
        "### `count(*)`"
      ],
      "metadata": {}
    },
    {
      "id": "1327a59c",
      "cell_type": "markdown",
      "source": [
        "How many trains are there in total?\n",
        ""
      ],
      "metadata": {}
    },
    {
      "id": "f3b52f95",
      "cell_type": "code",
      "metadata": {},
      "execution_count": null,
      "source": [
        "%%sql\n",
        "SELECT count(*) FROM train"
      ],
      "outputs": []
    },
    {
      "id": "bbe22fee",
      "cell_type": "markdown",
      "source": [
        "We can also give a name to the column instead of showing it as `count(*)`.\n",
        ""
      ],
      "metadata": {}
    },
    {
      "id": "a55536be",
      "cell_type": "code",
      "metadata": {},
      "execution_count": null,
      "source": [
        "%%sql\n",
        "SELECT count(*) AS num_trains\n",
        "FROM train"
      ],
      "outputs": []
    },
    {
      "id": "83cc6728",
      "cell_type": "markdown",
      "source": [
        "### Counting Distinct Values"
      ],
      "metadata": {}
    },
    {
      "id": "fd242a67",
      "cell_type": "markdown",
      "source": [
        "If you notice, there is column called `type` indicating the type of the train. How can we find how many types are there?\n",
        "\n",
        "Will `count(type)` help? Let's see.\n",
        ""
      ],
      "metadata": {}
    },
    {
      "id": "98401757",
      "cell_type": "code",
      "metadata": {},
      "execution_count": null,
      "source": [
        "%%sql\n",
        "SELECT count(type) FROM train"
      ],
      "outputs": []
    },
    {
      "id": "656911f9",
      "cell_type": "markdown",
      "source": [
        "That doesn't seem to be working.\n",
        "\n",
        "Did you notice that the the count is different from `num_trains` that we got in the previous query. What could be the reason? Think about it.\n",
        "\n",
        "That didn't work because `count` would count all the values, except when the value is `None`. We need to use `count(distinct ...)` to count distinct values in a column.\n",
        ""
      ],
      "metadata": {}
    },
    {
      "id": "0090de33",
      "cell_type": "code",
      "metadata": {},
      "execution_count": null,
      "source": [
        "%%sql\n",
        "SELECT count(distinct type) FROM train"
      ],
      "outputs": []
    },
    {
      "id": "456e5dba",
      "cell_type": "markdown",
      "source": [
        "### Selecting Distinct Values"
      ],
      "metadata": {}
    },
    {
      "id": "bde567fb",
      "cell_type": "markdown",
      "source": [
        "We can also use `SELECT DISTINCT` to list all the distinct values.\n",
        ""
      ],
      "metadata": {}
    },
    {
      "id": "45817623",
      "cell_type": "code",
      "metadata": {},
      "execution_count": null,
      "source": [
        "%%sql\n",
        "SELECT DISTINCT type\n",
        "FROM train"
      ],
      "outputs": []
    },
    {
      "id": "d5a080da",
      "cell_type": "markdown",
      "source": [
        "### Exercises"
      ],
      "metadata": {}
    },
    {
      "id": "49d490eb",
      "cell_type": "markdown",
      "source": [
        "Now it is time for some practice problems.\n",
        "\n",
        "**Probem 1:**\n",
        "\n",
        "Show a preview of `station` table by listing 5 rows.\n",
        ""
      ],
      "metadata": {}
    },
    {
      "id": "31108db6",
      "cell_type": "code",
      "metadata": {},
      "execution_count": null,
      "source": [],
      "outputs": []
    },
    {
      "id": "e5c99edc",
      "cell_type": "markdown",
      "source": [
        "**Probem 2:**\n",
        "\n",
        "How many stations are there?\n",
        ""
      ],
      "metadata": {}
    },
    {
      "id": "ec7640fc",
      "cell_type": "code",
      "metadata": {},
      "execution_count": null,
      "source": [],
      "outputs": []
    },
    {
      "id": "c027a374",
      "cell_type": "markdown",
      "source": [
        "**Probem 3:**\n",
        "\n",
        "The station table has a column `state`. Can you write a query to find the number of distinct states?\n",
        ""
      ],
      "metadata": {}
    },
    {
      "id": "24727e40",
      "cell_type": "code",
      "metadata": {},
      "execution_count": null,
      "source": [],
      "outputs": []
    },
    {
      "id": "0e5cc1e3",
      "cell_type": "markdown",
      "source": [
        "**Probem 4:**\n",
        "\n",
        "Write a query to list all the distinct states.\n",
        ""
      ],
      "metadata": {}
    },
    {
      "id": "244edcc6",
      "cell_type": "code",
      "metadata": {},
      "execution_count": null,
      "source": [],
      "outputs": []
    },
    {
      "id": "c5837be7",
      "cell_type": "markdown",
      "source": [
        "**Problem 5:**\n",
        "\n",
        "Find top-5 trains by the distance.\n",
        "\n",
        "Hint: The `train` table has a `distance` column.\n",
        ""
      ],
      "metadata": {}
    },
    {
      "id": "915a241e",
      "cell_type": "code",
      "metadata": {},
      "execution_count": null,
      "source": [],
      "outputs": []
    },
    {
      "id": "acdd1fb8",
      "cell_type": "markdown",
      "source": [
        "## Where Clause and Conditions"
      ],
      "metadata": {}
    },
    {
      "id": "39343f5f",
      "cell_type": "markdown",
      "source": [
        "The `WHERE` clause is used to filter the result to contain only rows matching some conditions.\n",
        "\n",
        "Let's write a query to list some trains starting from Bangalore. The station code for _Bangalore city Jn_ is `SBC`.\n",
        ""
      ],
      "metadata": {}
    },
    {
      "id": "1398a77c",
      "cell_type": "code",
      "metadata": {},
      "execution_count": null,
      "source": [
        "%%sql\n",
        "SELECT * FROM train\n",
        "WHERE from_station_code='SBC'\n",
        "LIMIT 5"
      ],
      "outputs": []
    },
    {
      "id": "cb7af91a",
      "cell_type": "markdown",
      "source": [
        "We can also specify multiple conditions and join them using `AND` or `OR` clauses.\n",
        "\n",
        "For example, let's find all the trains that start from Bangalore (`SBC`) and go to Chennai (`MAS`).\n",
        ""
      ],
      "metadata": {}
    },
    {
      "id": "b0678611",
      "cell_type": "code",
      "metadata": {},
      "execution_count": null,
      "source": [
        "%%sql\n",
        "SELECT * FROM train\n",
        "WHERE\n",
        "    from_station_code='SBC'\n",
        "    AND to_station_code='MAS'"
      ],
      "outputs": []
    },
    {
      "id": "ab417c29",
      "cell_type": "markdown",
      "source": [
        "Bangalore has one more railway station Yeswantpur (`YPR`). Let's try to update the query to consider from_station as either of these stations.\n",
        ""
      ],
      "metadata": {}
    },
    {
      "id": "bd86f6ff",
      "cell_type": "code",
      "metadata": {},
      "execution_count": null,
      "source": [
        "%%sql\n",
        "SELECT * FROM train\n",
        "WHERE\n",
        "    (from_station_code='SBC' OR from_station_code='YPR')\n",
        "    AND to_station_code='MAS'"
      ],
      "outputs": []
    },
    {
      "id": "a15a0d3e",
      "cell_type": "markdown",
      "source": [
        "You can see there is one train starting from `YPR` to `MAS`.\n",
        "\n",
        "We could also achieve the same using the `IN` clause instead of `OR`.\n",
        ""
      ],
      "metadata": {}
    },
    {
      "id": "ead6e4c9",
      "cell_type": "code",
      "metadata": {},
      "execution_count": null,
      "source": [
        "%%sql\n",
        "SELECT * FROM train\n",
        "WHERE\n",
        "    from_station_code IN ('SBC', 'YPR')\n",
        "    AND to_station_code='MAS'"
      ],
      "outputs": []
    },
    {
      "id": "0ddf407c",
      "cell_type": "markdown",
      "source": [
        "### Filtering"
      ],
      "metadata": {}
    },
    {
      "id": "11ffae9b",
      "cell_type": "markdown",
      "source": [
        "### Aggregation"
      ],
      "metadata": {}
    }
  ]
}