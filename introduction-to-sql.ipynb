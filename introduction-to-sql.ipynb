{
  "nbformat": 4,
  "nbformat_minor": 5,
  "metadata": {},
  "cells": [
    {
      "id": "c5391ae8",
      "cell_type": "markdown",
      "source": [
        "# Introduction to SQL"
      ],
      "metadata": {}
    },
    {
      "id": "dea8c49f",
      "cell_type": "markdown",
      "source": [
        "SQL is a mini language for managing data in Relational Database Management Systems (RDBMS).\n",
        "\n",
        "Every database engine supports a slightly different flavour of SQL even though there are a lot of it common across engines. In this course, we are going to look to two database engines - _SQLite_ and _MS SQL Server_.\n",
        "\n",
        "We'll start exploring with _SQLite_ first as it is easier to setup and run and then move on to exploring MS SQL Server.\n",
        ""
      ],
      "metadata": {}
    },
    {
      "id": "fd0ca8cf",
      "cell_type": "markdown",
      "source": [
        "## The Setup"
      ],
      "metadata": {}
    },
    {
      "id": "d068aa77",
      "cell_type": "markdown",
      "source": [
        "To make it easier to run queries and interact with databases right from the jupyter notebook, we'll using a a [jupysql extension](https://jupysql.ploomber.io). It allows us to run queries using `%%sql` magic command. You can enable it by running the following command.\n",
        ""
      ],
      "metadata": {}
    },
    {
      "id": "4c7ec4c7",
      "cell_type": "code",
      "metadata": {},
      "execution_count": null,
      "source": [
        "%load_ext sql"
      ],
      "outputs": []
    },
    {
      "id": "ec7f4afe",
      "cell_type": "markdown",
      "source": [
        "Also, set the limit of number of rows to display to 25.\n",
        ""
      ],
      "metadata": {}
    },
    {
      "id": "40c53ea9",
      "cell_type": "code",
      "metadata": {},
      "execution_count": null,
      "source": [
        "%config SqlMagic.displaylimit = 25\n",
        "%config SqlMagic.displaycon = False"
      ],
      "outputs": []
    },
    {
      "id": "50b79a7e",
      "cell_type": "markdown",
      "source": [
        "We are going to use a sqlite database `trains.db` for this exploration.\n",
        ""
      ],
      "metadata": {}
    },
    {
      "id": "b6ee1aeb",
      "cell_type": "code",
      "metadata": {},
      "execution_count": null,
      "source": [
        "%sql sqlite:///trains.db"
      ],
      "outputs": []
    },
    {
      "id": "dbaf3d41",
      "cell_type": "markdown",
      "source": [
        "You can verify it by running the following query.\n",
        ""
      ],
      "metadata": {}
    },
    {
      "id": "a5e5fbe0",
      "cell_type": "code",
      "metadata": {},
      "execution_count": null,
      "source": [
        "%%sql\n",
        "SELECT 1 as x, 2 as y"
      ],
      "outputs": []
    },
    {
      "id": "208a407b",
      "cell_type": "markdown",
      "source": [
        "Congratulations! Your setup is ready.\n",
        "\n",
        "You can use the same `%sql` to specify connection to a different database and `%%sql` to write a query.\n",
        ""
      ],
      "metadata": {}
    },
    {
      "id": "a19618af",
      "cell_type": "markdown",
      "source": [
        "## Basic Select Statement"
      ],
      "metadata": {}
    },
    {
      "id": "93b3764b",
      "cell_type": "markdown",
      "source": [
        "We'll start with understanding the SELECT statement.\n",
        "\n",
        "In this section, we'll learn:\n",
        "\n",
        "* basic SQL statement\n",
        "* selecting columns\n",
        "* limiting the number of rows\n",
        "* ordering the results\n",
        "* count(*)\n",
        "* column aliases\n",
        "* count distinct values\n",
        "* select distinct values\n",
        "\n",
        "Preview of the train table.\n",
        "\n",
        "```{python .sql}"
      ],
      "metadata": {}
    },
    {
      "id": "f30c1d31",
      "cell_type": "markdown",
      "source": [
        "#| classes: sql"
      ],
      "metadata": {}
    },
    {
      "id": "a4e6d2a3",
      "cell_type": "markdown",
      "source": [
        "%%sql\n",
        "SELECT * FROM train\n",
        "LIMIT 5\n",
        "```\n",
        "\n",
        "We can also specify which columns what we want in the result.\n",
        ""
      ],
      "metadata": {}
    },
    {
      "id": "28a64560",
      "cell_type": "code",
      "metadata": {},
      "execution_count": null,
      "source": [
        "%%sql\n",
        "SELECT number, name, from_station_name, to_station_name\n",
        "FROM train\n",
        "LIMIT 5"
      ],
      "outputs": []
    },
    {
      "id": "ce39beeb",
      "cell_type": "markdown",
      "source": [
        "### Column Alias"
      ],
      "metadata": {}
    },
    {
      "id": "3e52f64e",
      "cell_type": "markdown",
      "source": [
        "We can also specify an alias or a different name for a column.\n",
        "\n",
        "```{python .sql}"
      ],
      "metadata": {}
    },
    {
      "id": "ab7ab69a",
      "cell_type": "markdown",
      "source": [
        "#| classes: sql"
      ],
      "metadata": {}
    },
    {
      "id": "0b095d19",
      "cell_type": "markdown",
      "source": [
        "%%sql\n",
        "SELECT\n",
        "    number as train_number,\n",
        "    name as train_name,\n",
        "    from_station_name as from_station,\n",
        "    to_station_name as to_station\n",
        "FROM train\n",
        "LIMIT 5\n",
        "```\n",
        ""
      ],
      "metadata": {}
    },
    {
      "id": "52da3432",
      "cell_type": "markdown",
      "source": [
        "### Order By"
      ],
      "metadata": {}
    },
    {
      "id": "537a9edb",
      "cell_type": "markdown",
      "source": [
        "The `ORDER BY` clause is used to order the results. For example, the following query returns the first 5 trains ordered by the train number.\n",
        ""
      ],
      "metadata": {}
    },
    {
      "id": "4397c874",
      "cell_type": "code",
      "metadata": {},
      "execution_count": null,
      "source": [
        "%%sql\n",
        "SELECT * FROM train\n",
        "ORDER by number\n",
        "LIMIT 5"
      ],
      "outputs": []
    },
    {
      "id": "fb4a9e6d",
      "cell_type": "markdown",
      "source": [
        "The order can be reversed by specifying a suffix `DESC` to the column.\n",
        ""
      ],
      "metadata": {}
    },
    {
      "id": "b3c8d44b",
      "cell_type": "code",
      "metadata": {},
      "execution_count": null,
      "source": [
        "%%sql\n",
        "SELECT * FROM train\n",
        "ORDER by number DESC\n",
        "LIMIT 5"
      ],
      "outputs": []
    },
    {
      "id": "cce2dc31",
      "cell_type": "markdown",
      "source": [
        "### `count(*)`"
      ],
      "metadata": {}
    },
    {
      "id": "026ef22b",
      "cell_type": "markdown",
      "source": [
        "How many trains are there in total?\n",
        ""
      ],
      "metadata": {}
    },
    {
      "id": "7f3f7ea7",
      "cell_type": "code",
      "metadata": {},
      "execution_count": null,
      "source": [
        "%%sql\n",
        "SELECT count(*) FROM train"
      ],
      "outputs": []
    },
    {
      "id": "76c2439c",
      "cell_type": "markdown",
      "source": [
        "We can also give a name to the column instead of showing it as `count(*)`.\n",
        ""
      ],
      "metadata": {}
    },
    {
      "id": "57b73d90",
      "cell_type": "code",
      "metadata": {},
      "execution_count": null,
      "source": [
        "%%sql\n",
        "SELECT count(*) AS num_trains\n",
        "FROM train"
      ],
      "outputs": []
    },
    {
      "id": "02e27c8f",
      "cell_type": "markdown",
      "source": [
        "### Counting Distinct Values"
      ],
      "metadata": {}
    },
    {
      "id": "fce415b7",
      "cell_type": "markdown",
      "source": [
        "If you notice, there is column called `type` indicating the type of the train. How can we find how many types are there?\n",
        "\n",
        "Will `count(type)` help? Let's see.\n",
        ""
      ],
      "metadata": {}
    },
    {
      "id": "0389a4e3",
      "cell_type": "code",
      "metadata": {},
      "execution_count": null,
      "source": [
        "%%sql\n",
        "SELECT count(type) FROM train"
      ],
      "outputs": []
    },
    {
      "id": "8a787f2e",
      "cell_type": "markdown",
      "source": [
        "That doesn't seem to be working.\n",
        "\n",
        "Did you notice that the the count is different from `num_trains` that we got in the previous query. What could be the reason? Think about it.\n",
        "\n",
        "That didn't work because `count` would count all the values, except when the value is `None`. We need to use `count(distinct ...)` to count distinct values in a column.\n",
        ""
      ],
      "metadata": {}
    },
    {
      "id": "a75d01bb",
      "cell_type": "code",
      "metadata": {},
      "execution_count": null,
      "source": [
        "%%sql\n",
        "SELECT count(distinct type) FROM train"
      ],
      "outputs": []
    },
    {
      "id": "3856c937",
      "cell_type": "markdown",
      "source": [
        "### Selecting Distinct Values"
      ],
      "metadata": {}
    },
    {
      "id": "09ddaf42",
      "cell_type": "markdown",
      "source": [
        "We can also use `SELECT DISTINCT` to list all the distinct values.\n",
        ""
      ],
      "metadata": {}
    },
    {
      "id": "ff609992",
      "cell_type": "code",
      "metadata": {},
      "execution_count": null,
      "source": [
        "%%sql\n",
        "SELECT DISTINCT type\n",
        "FROM train"
      ],
      "outputs": []
    },
    {
      "id": "091fcae7",
      "cell_type": "markdown",
      "source": [
        "### Exercises"
      ],
      "metadata": {}
    },
    {
      "id": "bb0c1ae8",
      "cell_type": "markdown",
      "source": [
        "Now it is time for some practice problems.\n",
        "\n",
        "**Probem 1:**\n",
        "\n",
        "Show a preview of `station` table by listing 5 rows.\n",
        ""
      ],
      "metadata": {}
    },
    {
      "id": "276eeb4e",
      "cell_type": "code",
      "metadata": {},
      "execution_count": null,
      "source": [],
      "outputs": []
    },
    {
      "id": "ce5d848e",
      "cell_type": "markdown",
      "source": [
        "**Probem 2:**\n",
        "\n",
        "How many stations are there?\n",
        ""
      ],
      "metadata": {}
    },
    {
      "id": "e13ddce0",
      "cell_type": "code",
      "metadata": {},
      "execution_count": null,
      "source": [],
      "outputs": []
    },
    {
      "id": "152db669",
      "cell_type": "markdown",
      "source": [
        "**Probem 3:**\n",
        "\n",
        "The station table has a column `state`. Can you write a query to find the number of distinct states?\n",
        ""
      ],
      "metadata": {}
    },
    {
      "id": "61721122",
      "cell_type": "code",
      "metadata": {},
      "execution_count": null,
      "source": [],
      "outputs": []
    },
    {
      "id": "0d6ce7cb",
      "cell_type": "markdown",
      "source": [
        "**Probem 4:**\n",
        "\n",
        "Write a query to list all the distinct states.\n",
        ""
      ],
      "metadata": {}
    },
    {
      "id": "2341b004",
      "cell_type": "code",
      "metadata": {},
      "execution_count": null,
      "source": [],
      "outputs": []
    },
    {
      "id": "62bde084",
      "cell_type": "markdown",
      "source": [
        "**Problem 5:**\n",
        "\n",
        "Find top-5 trains by the distance.\n",
        "\n",
        "Hint: The `train` table has a `distance` column.\n",
        ""
      ],
      "metadata": {}
    },
    {
      "id": "74e81702",
      "cell_type": "code",
      "metadata": {},
      "execution_count": null,
      "source": [],
      "outputs": []
    },
    {
      "id": "736fe6d2",
      "cell_type": "markdown",
      "source": [
        "## Where Clause and Conditions"
      ],
      "metadata": {}
    },
    {
      "id": "e599e15d",
      "cell_type": "markdown",
      "source": [
        "The `WHERE` clause is used to filter the result to contain only rows matching some conditions.\n",
        "\n",
        "Let's write a query to list some trains starting from Bangalore. The station code for _Bangalore city Jn_ is `SBC`.\n",
        ""
      ],
      "metadata": {}
    },
    {
      "id": "4af1a587",
      "cell_type": "code",
      "metadata": {},
      "execution_count": null,
      "source": [
        "%%sql\n",
        "SELECT * FROM train\n",
        "WHERE from_station_code='SBC'\n",
        "LIMIT 5"
      ],
      "outputs": []
    },
    {
      "id": "950f6c2f",
      "cell_type": "markdown",
      "source": [
        "We can also specify multiple conditions and join them using `AND` or `OR` clauses.\n",
        "\n",
        "For example, let's find all the trains that start from Bangalore (`SBC`) and go to Chennai (`MAS`).\n",
        ""
      ],
      "metadata": {}
    },
    {
      "id": "7b49daad",
      "cell_type": "code",
      "metadata": {},
      "execution_count": null,
      "source": [
        "%%sql\n",
        "SELECT * FROM train\n",
        "WHERE\n",
        "    from_station_code='SBC'\n",
        "    AND to_station_code='MAS'"
      ],
      "outputs": []
    },
    {
      "id": "1786d29f",
      "cell_type": "markdown",
      "source": [
        "Bangalore has one more railway station Yeswantpur (`YPR`). Let's try to update the query to consider from_station as either of these stations.\n",
        ""
      ],
      "metadata": {}
    },
    {
      "id": "ecc91722",
      "cell_type": "code",
      "metadata": {},
      "execution_count": null,
      "source": [
        "%%sql\n",
        "SELECT * FROM train\n",
        "WHERE\n",
        "    (from_station_code='SBC' OR from_station_code='YPR')\n",
        "    AND to_station_code='MAS'"
      ],
      "outputs": []
    },
    {
      "id": "7e9b3587",
      "cell_type": "markdown",
      "source": [
        "You can see there is one train starting from `YPR` to `MAS`.\n",
        "\n",
        "We could also achieve the same using the `IN` clause instead of `OR`.\n",
        ""
      ],
      "metadata": {}
    },
    {
      "id": "8009c8a2",
      "cell_type": "code",
      "metadata": {},
      "execution_count": null,
      "source": [
        "%%sql\n",
        "SELECT * FROM train\n",
        "WHERE\n",
        "    from_station_code IN ('SBC', 'YPR')\n",
        "    AND to_station_code='MAS'"
      ],
      "outputs": []
    },
    {
      "id": "224bedac",
      "cell_type": "markdown",
      "source": [
        "### Filtering"
      ],
      "metadata": {}
    },
    {
      "id": "50f3df12",
      "cell_type": "markdown",
      "source": [
        "### Aggregation"
      ],
      "metadata": {}
    }
  ]
}